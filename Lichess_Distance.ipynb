{
 "cells": [
  {
   "cell_type": "code",
   "execution_count": 69,
   "metadata": {},
   "outputs": [],
   "source": [
    "import pandas as pd\n",
    "import numpy as np\n",
    "import networkx as nx\n",
    "import matplotlib.pyplot\n",
    "import seaborn as sns"
   ]
  },
  {
   "cell_type": "markdown",
   "metadata": {},
   "source": [
    "Import curated win,lose pairs. Right now, I am just using the games from October (with the October titled arena). In the future, I'll expand it to all games. Will need to do this back at my desktop. :)"
   ]
  },
  {
   "cell_type": "code",
   "execution_count": 2,
   "metadata": {},
   "outputs": [],
   "source": [
    "match_results = pd.read_pickle(\"./2018-10-ALL.pkl\")"
   ]
  },
  {
   "cell_type": "markdown",
   "metadata": {},
   "source": [
    "Create a graph that we can search"
   ]
  },
  {
   "cell_type": "code",
   "execution_count": 17,
   "metadata": {},
   "outputs": [],
   "source": [
    "net = nx.from_pandas_edgelist(match_results,'W','L',create_using=nx.DiGraph())"
   ]
  },
  {
   "cell_type": "code",
   "execution_count": 18,
   "metadata": {},
   "outputs": [
    {
     "data": {
      "text/plain": [
       "True"
      ]
     },
     "execution_count": 18,
     "metadata": {},
     "output_type": "execute_result"
    }
   ],
   "source": [
    "net.is_directed()"
   ]
  },
  {
   "cell_type": "markdown",
   "metadata": {},
   "source": [
    "Get inputs from the user. A few ones you might want to check are suggested."
   ]
  },
  {
   "cell_type": "code",
   "execution_count": 139,
   "metadata": {},
   "outputs": [],
   "source": [
    "your_user_name = 'mathemagically'\n",
    "target_user_name = 'Chess-Network' #DrDrunkenstein, penguingim1, german11, thibault"
   ]
  },
  {
   "cell_type": "markdown",
   "metadata": {},
   "source": [
    "Make sure you played games in the period."
   ]
  },
  {
   "cell_type": "code",
   "execution_count": 140,
   "metadata": {
    "scrolled": true
   },
   "outputs": [
    {
     "data": {
      "text/plain": [
       "W    True\n",
       "L    True\n",
       "dtype: bool"
      ]
     },
     "execution_count": 140,
     "metadata": {},
     "output_type": "execute_result"
    }
   ],
   "source": [
    "(match_results==your_user_name).any()"
   ]
  },
  {
   "cell_type": "code",
   "execution_count": 141,
   "metadata": {},
   "outputs": [],
   "source": [
    "path = nx.shortest_path(net,source=your_user_name,target=target_user_name)"
   ]
  },
  {
   "cell_type": "code",
   "execution_count": 142,
   "metadata": {},
   "outputs": [
    {
     "name": "stdout",
     "output_type": "stream",
     "text": [
      "You are 4 degress of seperation away from Chess-Network\n"
     ]
    }
   ],
   "source": [
    "print('You are '+str(len(path)-1)+' degress of seperation away from '+target_user_name)"
   ]
  },
  {
   "cell_type": "code",
   "execution_count": 143,
   "metadata": {},
   "outputs": [
    {
     "name": "stdout",
     "output_type": "stream",
     "text": [
      "['mathemagically', 'nicholashart', 'Samposebe', 'schizo2000', 'Chess-Network']\n"
     ]
    }
   ],
   "source": [
    "print(path)"
   ]
  },
  {
   "cell_type": "markdown",
   "metadata": {},
   "source": [
    "###  Quick Plot"
   ]
  },
  {
   "cell_type": "code",
   "execution_count": 91,
   "metadata": {},
   "outputs": [],
   "source": [
    "target_user_name = 'DrDrunkenstein'\n",
    "magnus_distance = np.zeros(5000)\n",
    "i = 0\n",
    "while True:\n",
    "    random_user = np.random.choice(match_results['W'])\n",
    "    if nx.has_path(net,random_user,target_user_name) == True:\n",
    "        path = nx.shortest_path(net,source=random_user,target=target_user_name)\n",
    "        magnus_distance[i] = len(path)-1\n",
    "        i += 1\n",
    "    if i == 5000:\n",
    "        break"
   ]
  },
  {
   "cell_type": "code",
   "execution_count": 92,
   "metadata": {},
   "outputs": [],
   "source": [
    "target_user_name = 'thibault'\n",
    "thibault_distance = np.zeros(5000)\n",
    "i = 0\n",
    "while True:\n",
    "    random_user = np.random.choice(match_results['W'])\n",
    "    if nx.has_path(net,random_user,target_user_name) == True:\n",
    "        path = nx.shortest_path(net,source=random_user,target=target_user_name)\n",
    "        thibault_distance[i] = len(path)-1\n",
    "        i += 1\n",
    "    if i == 5000:\n",
    "        break"
   ]
  },
  {
   "cell_type": "code",
   "execution_count": 93,
   "metadata": {},
   "outputs": [],
   "source": [
    "target_user_name = 'german11'\n",
    "german11_distance = np.zeros(5000)\n",
    "i = 0\n",
    "while True:\n",
    "    random_user = np.random.choice(match_results['W'])\n",
    "    if nx.has_path(net,random_user,target_user_name) == True:\n",
    "        path = nx.shortest_path(net,source=random_user,target=target_user_name)\n",
    "        german11_distance[i] = len(path)-1\n",
    "        i += 1\n",
    "    if i == 5000:\n",
    "        break"
   ]
  },
  {
   "cell_type": "code",
   "execution_count": 94,
   "metadata": {},
   "outputs": [],
   "source": [
    "target_user_name = 'penguingim1'\n",
    "penguingim1_distance = np.zeros(5000)\n",
    "i = 0\n",
    "while True:\n",
    "    random_user = np.random.choice(match_results['W'])\n",
    "    if nx.has_path(net,random_user,target_user_name) == True:\n",
    "        path = nx.shortest_path(net,source=random_user,target=target_user_name)\n",
    "        penguingim1_distance[i] = len(path)-1\n",
    "        i += 1\n",
    "    if i == 5000:\n",
    "        break"
   ]
  },
  {
   "cell_type": "code",
   "execution_count": 95,
   "metadata": {
    "scrolled": true
   },
   "outputs": [
    {
     "name": "stdout",
     "output_type": "stream",
     "text": [
      "Mean distance from Magnus Carlsen: 4.3232\n",
      "Mean distance from thibault: 3.0982\n",
      "Mean distance from german11: 2.4184\n",
      "Mean distance from penguingim1: 3.4324\n"
     ]
    }
   ],
   "source": [
    "print('Mean distance from Magnus Carlsen: '+str(np.mean(magnus_distance)))\n",
    "print('Mean distance from thibault: '+str(np.mean(thibault_distance)))\n",
    "print('Mean distance from german11: '+str(np.mean(german11_distance)))\n",
    "print('Mean distance from penguingim1: '+str(np.mean(penguingim1_distance)))"
   ]
  },
  {
   "cell_type": "code",
   "execution_count": 104,
   "metadata": {},
   "outputs": [
    {
     "data": {
      "text/plain": [
       "<matplotlib.axes._subplots.AxesSubplot at 0x1c162208d0>"
      ]
     },
     "execution_count": 104,
     "metadata": {},
     "output_type": "execute_result"
    },
    {
     "data": {
      "image/png": "[encoded data removed]",
      "text/plain": [
       "<Figure size 432x288 with 1 Axes>"
      ]
     },
     "metadata": {
      "needs_background": "light"
     },
     "output_type": "display_data"
    }
   ],
   "source": [
    "sns.kdeplot(magnus_distance, bw=.2, label=\"Magnus\")\n",
    "sns.kdeplot(thibault_distance, bw=.2, label=\"Thibault\")\n",
    "sns.kdeplot(penguingim1_distance, bw=.2, label=\"Penguin\")\n",
    "sns.kdeplot(german11_distance, bw=.2, label=\"German\")"
   ]
  },
  {
   "cell_type": "code",
   "execution_count": null,
   "metadata": {},
   "outputs": [],
   "source": []
  }
 ],
 "metadata": {
  "kernelspec": {
   "display_name": "Python 3",
   "language": "python",
   "name": "python3"
  },
  "language_info": {
   "codemirror_mode": {
    "name": "ipython",
    "version": 3
   },
   "file_extension": ".py",
   "mimetype": "text/x-python",
   "name": "python",
   "nbconvert_exporter": "python",
   "pygments_lexer": "ipython3",
   "version": "3.6.7"
  }
 },
 "nbformat": 4,
 "nbformat_minor": 2
}
